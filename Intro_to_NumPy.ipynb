{
  "cells": [
    {
      "cell_type": "markdown",
      "metadata": {
        "id": "lz0tdlUqi4Yf"
      },
      "source": [
        "# Into to NumPy\n",
        "\n",
        "[NumPy](https://numpy.org/) is a fundamental Python package for scientific computation. It has grown in popularity because it provides powerful, performant numerical computing tools while maintaining ease of use.\n",
        "\n",
        "NumPy is used in many scientific domains such as Quantum Computing, 3D Visualization, Bioinformatics, Astronomy, Data Science, and Machine Learning. Basically anywhere a lot of numbers need to be processed NumPy is probably being used.\n"
      ]
    },
    {
      "cell_type": "markdown",
      "metadata": {
        "id": "SvS7z_Hfl8y1"
      },
      "source": [
        "## Basics of NumPy Arrays\n",
        "\n",
        "The main object provided by NumPy is its N-dimensional array (`ndarray`). This is a table of elements which are all of the same type.\n",
        "\n",
        "The 'dimensionality' of an array refers to the level of nesting of arrays within the array. For example, the arrays you are probably used to such as `[1, 2, 3]` are 1-dimensional as there is just the top level array. We can create a 1-dimensional array in NumPy as follows."
      ]
    },
    {
      "cell_type": "code",
      "execution_count": 2,
      "metadata": {
        "colab": {
          "base_uri": "https://localhost:8080/"
        },
        "id": "Y8c5EE_PhVrg",
        "outputId": "4b6359f0-1533-42a0-983b-8edbdaa87940"
      },
      "outputs": [
        {
          "data": {
            "text/plain": [
              "array([1, 2, 3])"
            ]
          },
          "execution_count": 2,
          "metadata": {
            "tags": []
          },
          "output_type": "execute_result"
        }
      ],
      "source": [
        "# We import numpy with the alias np by convention\n",
        "import numpy as np\n",
        "\n",
        "a1 = np.array([1, 2, 3])\n",
        "a1"
      ]
    },
    {
      "cell_type": "markdown",
      "metadata": {
        "id": "cfvuw4n5nvY1"
      },
      "source": [
        "We can also create arrays with more dimensions. This is where the NumPy module starts to become useful."
      ]
    },
    {
      "cell_type": "code",
      "execution_count": 3,
      "metadata": {
        "colab": {
          "base_uri": "https://localhost:8080/"
        },
        "id": "NytheKXpoI9J",
        "outputId": "55487da6-6988-454f-ccea-5803e408a974"
      },
      "outputs": [
        {
          "data": {
            "text/plain": [
              "array([[1, 2, 3],\n",
              "       [4, 5, 6]])"
            ]
          },
          "execution_count": 3,
          "metadata": {
            "tags": []
          },
          "output_type": "execute_result"
        }
      ],
      "source": [
        "a2 = np.array([[1, 2, 3], [4, 5, 6]])\n",
        "a2"
      ]
    },
    {
      "cell_type": "markdown",
      "metadata": {
        "id": "0UhpZbZaoxAM"
      },
      "source": [
        "In NumPy the dimensions of an array are called *axes*. 1-dimensional arrays have one axis, 2-dimensional arrays have two axes, and so on.\n",
        "\n",
        "Our first example above has single axis with 3 elements, so we say its axis has a length of 3.\n",
        "\n",
        "Our second example has two axes. The first axis (the rows) has a length of 2, the second axis (the columns) has a length of 3.\n",
        "\n",
        "Arrays in NumPy can have an arbitrary number of axes, which is why they are called N-dimensional arrays. The object we create with `np.array` is an `ndarray`. There are some important attributes of the `ndarray`:"
      ]
    },
    {
      "cell_type": "markdown",
      "metadata": {
        "id": "Q6rrzfYKsQuZ"
      },
      "source": [
        "We can get the number of axes (dimensions) through the `ndim` attribute:"
      ]
    },
    {
      "cell_type": "code",
      "execution_count": 4,
      "metadata": {
        "colab": {
          "base_uri": "https://localhost:8080/"
        },
        "id": "2dw3re3KpPuT",
        "outputId": "7d1e03bf-2775-426a-e41d-64a52964ca33"
      },
      "outputs": [
        {
          "name": "stdout",
          "output_type": "stream",
          "text": [
            "This is a 1-dimensional array.\n",
            "This is a 2-dimensional array.\n"
          ]
        }
      ],
      "source": [
        "print(f'This is a {a1.ndim}-dimensional array.')\n",
        "print(f'This is a {a2.ndim}-dimensional array.')"
      ]
    },
    {
      "cell_type": "markdown",
      "metadata": {
        "id": "c9qislxYso0N"
      },
      "source": [
        "We can see the length of each axis with `shape`. `shape` is a tuple with an integer for each dimension, so it has length `ndim`."
      ]
    },
    {
      "cell_type": "code",
      "execution_count": 5,
      "metadata": {
        "colab": {
          "base_uri": "https://localhost:8080/"
        },
        "id": "lRg5UcwosgIH",
        "outputId": "3fab7a56-543e-4d55-f7eb-dd1595270101"
      },
      "outputs": [
        {
          "name": "stdout",
          "output_type": "stream",
          "text": [
            "The dimensions of this array are: (3,)\n",
            "The dimensions of this array are: (2, 3)\n"
          ]
        }
      ],
      "source": [
        "print('The dimensions of this array are:', a1.shape)\n",
        "print('The dimensions of this array are:', a2.shape)"
      ]
    },
    {
      "cell_type": "markdown",
      "metadata": {
        "id": "Gb3D9w6wtvBz"
      },
      "source": [
        "We can get the total number of elements in the array with `size`."
      ]
    },
    {
      "cell_type": "code",
      "execution_count": 6,
      "metadata": {
        "colab": {
          "base_uri": "https://localhost:8080/"
        },
        "id": "DTgtzlsXsh9J",
        "outputId": "dce18196-f742-4555-d7fb-b789f2bf99a4"
      },
      "outputs": [
        {
          "name": "stdout",
          "output_type": "stream",
          "text": [
            "This array has 3 elements.\n",
            "This array has 6 elements.\n"
          ]
        }
      ],
      "source": [
        "print(f'This array has {a1.size} elements.')\n",
        "print(f'This array has {a2.size} elements.')"
      ]
    },
    {
      "cell_type": "markdown",
      "metadata": {
        "id": "rkga_d0kuTAW"
      },
      "source": [
        "We can see the data type of the element of an array with `dtype`."
      ]
    },
    {
      "cell_type": "code",
      "execution_count": 7,
      "metadata": {
        "colab": {
          "base_uri": "https://localhost:8080/"
        },
        "id": "2SpCU88JskRB",
        "outputId": "633b84ce-2b47-4e5e-c1b0-a3d9f41974fb"
      },
      "outputs": [
        {
          "name": "stdout",
          "output_type": "stream",
          "text": [
            "This array has int64 type elements in it.\n",
            "This array has float64 type elements in it.\n"
          ]
        }
      ],
      "source": [
        "print(f'This array has {a2.dtype} type elements in it.')\n",
        "a_flt = np.array([1.3])\n",
        "print(f'This array has {a_flt.dtype} type elements in it.')"
      ]
    },
    {
      "cell_type": "markdown",
      "metadata": {
        "id": "yj5Gna1EyZIi"
      },
      "source": [
        "There are often times when we don't know what an array will contain, but we do know the dimensions of it. In this case it is a good practice to create an array with the correct size and some initial filler content. This is because the alternative of growing an array as you discover the contents is an expensive operation.\n",
        "\n",
        "There are a couple of ways we can create arrays of a given size with initial filler content."
      ]
    },
    {
      "cell_type": "markdown",
      "metadata": {
        "id": "yCQ1St-Y027P"
      },
      "source": [
        "We can use `np.zeros` to create an array filled with zeros. This function takes a tuple representing the shape of the array to create."
      ]
    },
    {
      "cell_type": "code",
      "execution_count": 8,
      "metadata": {
        "colab": {
          "base_uri": "https://localhost:8080/"
        },
        "id": "PzPLqNR4snUJ",
        "outputId": "454e47e5-36e4-42c3-f488-d52698a42bce"
      },
      "outputs": [
        {
          "data": {
            "text/plain": [
              "array([[0., 0., 0., 0.],\n",
              "       [0., 0., 0., 0.],\n",
              "       [0., 0., 0., 0.]])"
            ]
          },
          "execution_count": 8,
          "metadata": {
            "tags": []
          },
          "output_type": "execute_result"
        }
      ],
      "source": [
        "np.zeros((3, 4))"
      ]
    },
    {
      "cell_type": "markdown",
      "metadata": {
        "id": "OaJjEAZM1p2T"
      },
      "source": [
        "`np.ones` works in the same way as `zeros` but fills the array with ones instead."
      ]
    },
    {
      "cell_type": "code",
      "execution_count": 9,
      "metadata": {
        "colab": {
          "base_uri": "https://localhost:8080/"
        },
        "id": "-oE_0N2IxCjb",
        "outputId": "12266b35-1bae-4b5b-e8f0-42ca8b57c2dc"
      },
      "outputs": [
        {
          "data": {
            "text/plain": [
              "array([[[1., 1., 1., 1.],\n",
              "        [1., 1., 1., 1.],\n",
              "        [1., 1., 1., 1.]],\n",
              "\n",
              "       [[1., 1., 1., 1.],\n",
              "        [1., 1., 1., 1.],\n",
              "        [1., 1., 1., 1.]]])"
            ]
          },
          "execution_count": 9,
          "metadata": {
            "tags": []
          },
          "output_type": "execute_result"
        }
      ],
      "source": [
        "np.ones((2,3,4))"
      ]
    },
    {
      "cell_type": "markdown",
      "metadata": {
        "id": "OU0mc5nU11Bg"
      },
      "source": [
        "Another alternative is `np.empty` which creates an array of the given shape but makes no guarantees about its contents. The contents are determined by whatever is in memory at the time of creation and you cannot assume they are all consistent, for example all zeros."
      ]
    },
    {
      "cell_type": "code",
      "execution_count": 10,
      "metadata": {
        "colab": {
          "base_uri": "https://localhost:8080/"
        },
        "id": "8ikC9fFrxDJZ",
        "outputId": "d91e7eec-8156-4b75-eb9e-3c1925ee478c"
      },
      "outputs": [
        {
          "data": {
            "text/plain": [
              "array([[3.13187897e-316, 0.00000000e+000, 0.00000000e+000],\n",
              "       [0.00000000e+000, 0.00000000e+000, 0.00000000e+000]])"
            ]
          },
          "execution_count": 10,
          "metadata": {
            "tags": []
          },
          "output_type": "execute_result"
        }
      ],
      "source": [
        "np.empty((2,3))"
      ]
    },
    {
      "cell_type": "markdown",
      "metadata": {
        "id": "5OkTQfx12kns"
      },
      "source": [
        "For functionality analogous to Python's `range`, we can use the `np.arange` to generate an `ndarray` filled with a range of values."
      ]
    },
    {
      "cell_type": "code",
      "execution_count": 11,
      "metadata": {
        "colab": {
          "base_uri": "https://localhost:8080/"
        },
        "id": "sWiq_9Mx2PwD",
        "outputId": "3f985a15-4259-46c9-d56d-dbf0a72d34dd"
      },
      "outputs": [
        {
          "name": "stdout",
          "output_type": "stream",
          "text": [
            "[10 11 12 13 14 15 16 17 18 19]\n",
            "[10 15 20 25]\n",
            "[10 15 20 25 30]\n"
          ]
        }
      ],
      "source": [
        "print(np.arange(10, 20))\n",
        "print(np.arange(10, 30, 5))\n",
        "print(np.arange(10, 31, 5))"
      ]
    },
    {
      "cell_type": "markdown",
      "metadata": {
        "id": "mFwKmrT13Kzo"
      },
      "source": [
        "If you want to generate a range of numbers which can include floats, use `np.linspace`. This function is similar to `arange` except it takes the number of values to generate instead of the step. `linspace` determines the step automatically and evenly (linearly, hence 'lin') spaces the generated values."
      ]
    },
    {
      "cell_type": "code",
      "execution_count": 18,
      "metadata": {
        "colab": {
          "base_uri": "https://localhost:8080/"
        },
        "id": "Y_Dk2Gjx3S39",
        "outputId": "88f8b2db-4c1e-4f57-ff39-1e4f55eb7a34"
      },
      "outputs": [
        {
          "name": "stdout",
          "output_type": "stream",
          "text": [
            "[0.   0.25 0.5  0.75 1.   1.25 1.5  1.75 2.  ]\n"
          ]
        }
      ],
      "source": [
        "print(np.linspace(0, 2, 9))"
      ]
    },
    {
      "cell_type": "markdown",
      "metadata": {
        "id": "kjH0AUKRjGxB"
      },
      "source": [
        "**Challenge:** Create a 2D array of shape (2, 3) (2 rows, 3 columns), filled with ones, in two different ways. Make sure their data types are the same."
      ]
    },
    {
      "cell_type": "code",
      "execution_count": 42,
      "metadata": {
        "colab": {
          "base_uri": "https://localhost:8080/"
        },
        "id": "kEjP74CYjcoS",
        "outputId": "0798720e-37fa-4669-da9a-310f25db9c70"
      },
      "outputs": [
        {
          "name": "stdout",
          "output_type": "stream",
          "text": [
            "[[1. 1. 1.]\n",
            " [1. 1. 1.]]\n",
            "[[1. 1. 1.]\n",
            " [1. 1. 1.]]\n"
          ]
        }
      ],
      "source": [
        "print(np.array([[1., 1., 1.], [1., 1., 1.]]))\n",
        "print(np.ones((2, 3)))"
      ]
    },
    {
      "cell_type": "markdown",
      "metadata": {
        "id": "Z5OiN3LkeVp5"
      },
      "source": [
        "## Indexing, Slicing, and Iterating\n",
        "\n",
        "One-dimensional NumPy arrays work very similarly to Python lists when it comes to accessing elements and iterating over elements."
      ]
    },
    {
      "cell_type": "code",
      "execution_count": 37,
      "metadata": {
        "colab": {
          "base_uri": "https://localhost:8080/"
        },
        "id": "7gcgmcw-cUlx",
        "outputId": "20cdc72a-1205-418a-9601-24497f14f4aa"
      },
      "outputs": [
        {
          "name": "stdout",
          "output_type": "stream",
          "text": [
            "[ 1.  2.  3.  4.  5.  6.  7.  8.  9. 10.]\n",
            "3.0\n",
            "[5. 6. 7. 8. 9.]\n",
            "[ 1.  4.  7. 10.]\n",
            "[1000.    2. 1000.    4. 1000.    6. 1000.    8.    9.   10.]\n",
            "[  10.    9.    8. 1000.    6. 1000.    4. 1000.    2. 1000.]\n",
            "1000.0\n",
            "2.0\n",
            "1000.0\n",
            "4.0\n",
            "1000.0\n",
            "6.0\n",
            "1000.0\n",
            "8.0\n",
            "9.0\n",
            "10.0\n"
          ]
        }
      ],
      "source": [
        "a = np.linspace(1, 10, num=10)\n",
        "print(a)\n",
        "\n",
        "# Access the 3rd element (remember indices start at 0)\n",
        "print(a[2])\n",
        "\n",
        "# Access the from 5th element up to but not including the 10th\n",
        "print(a[4:9])\n",
        "\n",
        "# Access every third element\n",
        "print(a[::3]) # equivalent to a[0:len(a)+1:3]]\n",
        "\n",
        "# From start to the 8th element, set every second element to 1000\n",
        "a[:7:2] = 1000 # equivalent to a[0:7:2] = 1000\n",
        "print(a)\n",
        "\n",
        "# Get the reverse of a\n",
        "print(a[::-1])\n",
        "\n",
        "# Loop through a\n",
        "for el in a:\n",
        "    print(el)"
      ]
    },
    {
      "cell_type": "markdown",
      "metadata": {
        "id": "_gfDtNVgkRqY"
      },
      "source": [
        "**Challenge:** Create an array of 100 elements from 0.1 to 1 named `my_array` and change every 10th element to 100."
      ]
    },
    {
      "cell_type": "code",
      "execution_count": 44,
      "metadata": {
        "colab": {
          "base_uri": "https://localhost:8080/"
        },
        "id": "wxaWNorJkPQq",
        "outputId": "87604c27-2d53-40ba-aa47-2e4a20c2b4be"
      },
      "outputs": [
        {
          "name": "stdout",
          "output_type": "stream",
          "text": [
            "[100.           0.10909091   0.11818182   0.12727273   0.13636364\n",
            "   0.14545455   0.15454545   0.16363636   0.17272727   0.18181818\n",
            " 100.           0.2          0.20909091   0.21818182   0.22727273\n",
            "   0.23636364   0.24545455   0.25454545   0.26363636   0.27272727\n",
            " 100.           0.29090909   0.3          0.30909091   0.31818182\n",
            "   0.32727273   0.33636364   0.34545455   0.35454545   0.36363636\n",
            " 100.           0.38181818   0.39090909   0.4          0.40909091\n",
            "   0.41818182   0.42727273   0.43636364   0.44545455   0.45454545\n",
            " 100.           0.47272727   0.48181818   0.49090909   0.5\n",
            "   0.50909091   0.51818182   0.52727273   0.53636364   0.54545455\n",
            " 100.           0.56363636   0.57272727   0.58181818   0.59090909\n",
            "   0.6          0.60909091   0.61818182   0.62727273   0.63636364\n",
            " 100.           0.65454545   0.66363636   0.67272727   0.68181818\n",
            "   0.69090909   0.7          0.70909091   0.71818182   0.72727273\n",
            " 100.           0.74545455   0.75454545   0.76363636   0.77272727\n",
            "   0.78181818   0.79090909   0.8          0.80909091   0.81818182\n",
            " 100.           0.83636364   0.84545455   0.85454545   0.86363636\n",
            "   0.87272727   0.88181818   0.89090909   0.9          0.90909091\n",
            " 100.           0.92727273   0.93636364   0.94545455   0.95454545\n",
            "   0.96363636   0.97272727   0.98181818   0.99090909   1.        ]\n"
          ]
        }
      ],
      "source": [
        "my_array = np.linspace(0.1, 1, num=100)\n",
        "my_array[::10] = 100\n",
        "print(my_array)"
      ]
    },
    {
      "cell_type": "markdown",
      "metadata": {
        "id": "8SFnMAkXhB59"
      },
      "source": [
        "Multidimensional arrays can have one index per axis, each separated by a comma within the square brackets: `a[rows, cols]`. In a 2D array, the first index selects the rows and the second selects the columns. Each index works in the same way as with 1D arrays, they just operate on their respective axis."
      ]
    },
    {
      "cell_type": "code",
      "execution_count": 53,
      "metadata": {
        "colab": {
          "base_uri": "https://localhost:8080/"
        },
        "id": "NzZOZdgmhZ7o",
        "outputId": "454de38c-7a77-4751-efa4-a83d7d3df627"
      },
      "outputs": [
        {
          "name": "stdout",
          "output_type": "stream",
          "text": [
            "[[1 2 3]\n",
            " [4 5 6]]\n",
            "6\n",
            "[2 5]\n",
            "[2 5]\n",
            "[2 5]\n",
            "[1 2 3]\n",
            "[1 2 3]\n",
            "[1 2 3]\n"
          ]
        }
      ],
      "source": [
        "# A 2D array\n",
        "a2 = np.array([[1, 2, 3], [4, 5, 6]])\n",
        "print(a2)\n",
        "\n",
        "# Select the 2nd row and the 3rd column\n",
        "print(a2[1,2])\n",
        "\n",
        "# Select all the rows and the 2nd column in three different ways\n",
        "# Note: the second way is preferred because it works regardless of the number of rows\n",
        "print(a2[0:3,1])\n",
        "print(a2[:,1])\n",
        "# This way tells NumPy you only want to specify the very last axis and get everything from the rest.\n",
        "# This is useful for arrays with more dimensions\n",
        "print(a2[...,1])\n",
        "\n",
        "# The 1st row and all columns in three different ways\n",
        "print(a2[0,:])\n",
        "print(a2[0])\n",
        "print(a2[0,...])"
      ]
    },
    {
      "cell_type": "markdown",
      "metadata": {
        "id": "vQ_8wH6mmsti"
      },
      "source": [
        "Note that when we don't provide all indices, for example leaving out the column axis, NumPy just assumes we want everything from the axis.\n"
      ]
    },
    {
      "cell_type": "markdown",
      "metadata": {
        "id": "tA5gA8XQpoz-"
      },
      "source": [
        "**Challenge:** Create an array of ones of shape (5, 5) and index into it in such a way that the result is an array of shape (2, 3)."
      ]
    },
    {
      "cell_type": "code",
      "execution_count": 58,
      "metadata": {
        "colab": {
          "base_uri": "https://localhost:8080/"
        },
        "id": "GRKVAruNqC0U",
        "outputId": "8d6c309a-022f-4657-d0ef-edc40051c02c"
      },
      "outputs": [
        {
          "name": "stdout",
          "output_type": "stream",
          "text": [
            "[[0. 0. 0. 0. 0.]\n",
            " [0. 0. 0. 0. 0.]\n",
            " [0. 0. 0. 0. 0.]\n",
            " [0. 0. 0. 0. 0.]\n",
            " [0. 0. 0. 0. 0.]]\n",
            "[[0. 0. 0.]\n",
            " [0. 0. 0.]]\n",
            "[[0. 0. 0.]\n",
            " [0. 0. 0.]]\n"
          ]
        }
      ],
      "source": [
        "a5 = np.zeros((5, 5))\n",
        "print(a5)\n",
        "print(a5[:2,:3])\n",
        "print(a5[3:6,2:5])"
      ]
    },
    {
      "cell_type": "markdown",
      "metadata": {
        "id": "bX_cYYbUpnpz"
      },
      "source": [
        "\n",
        "When you iterate over an array, it loops over the rows."
      ]
    },
    {
      "cell_type": "code",
      "execution_count": 54,
      "metadata": {
        "colab": {
          "base_uri": "https://localhost:8080/"
        },
        "id": "tJ-uA7AJn9E_",
        "outputId": "dede2a71-7da1-4086-92f9-4bce606bc6fa"
      },
      "outputs": [
        {
          "name": "stdout",
          "output_type": "stream",
          "text": [
            "[1 2 3]\n",
            "[4 5 6]\n"
          ]
        }
      ],
      "source": [
        "for row in a2:\n",
        "    print(row)"
      ]
    },
    {
      "cell_type": "markdown",
      "metadata": {
        "id": "QlTnuDfvoBjt"
      },
      "source": [
        "If you want to loop through all the elements of an array, use the `flat` attribute."
      ]
    },
    {
      "cell_type": "code",
      "execution_count": 56,
      "metadata": {
        "colab": {
          "base_uri": "https://localhost:8080/"
        },
        "id": "VdEBrNUToIdO",
        "outputId": "84163b8f-843f-49a9-eefa-fd06b0c1af21"
      },
      "outputs": [
        {
          "name": "stdout",
          "output_type": "stream",
          "text": [
            "1\n",
            "2\n",
            "3\n",
            "4\n",
            "5\n",
            "6\n",
            "1\n",
            "2\n",
            "3\n",
            "4\n",
            "5\n",
            "6\n"
          ]
        }
      ],
      "source": [
        "for el in a2.flat:\n",
        "    print(el)\n",
        "\n",
        "# The above is the same as this...\n",
        "for row in a2:\n",
        "    for el in row:\n",
        "        print(el)\n",
        "# Except flat works for any number of dimensions in the array"
      ]
    },
    {
      "cell_type": "markdown",
      "metadata": {
        "id": "wyq9UTgQrbZ_"
      },
      "source": [
        "**Challenge:** Create an empty array of shape (3,3,3) and iterate over its elements in two different ways."
      ]
    },
    {
      "cell_type": "code",
      "execution_count": 68,
      "metadata": {
        "colab": {
          "base_uri": "https://localhost:8080/"
        },
        "id": "ltyPzVTSqVDu",
        "outputId": "6b19ccb1-0cc8-419a-b337-c7dafd67c8bf"
      },
      "outputs": [
        {
          "name": "stdout",
          "output_type": "stream",
          "text": [
            "Way #1:\n",
            "1.8983836e-316\n",
            "0.0\n",
            "0.0\n",
            "0.0\n",
            "0.0\n",
            "0.0\n",
            "0.0\n",
            "0.0\n",
            "0.0\n",
            "0.0\n",
            "0.0\n",
            "0.0\n",
            "0.0\n",
            "0.0\n",
            "0.0\n",
            "0.0\n",
            "0.0\n",
            "0.0\n",
            "0.0\n",
            "0.0\n",
            "0.0\n",
            "0.0\n",
            "0.0\n",
            "0.0\n",
            "0.0\n",
            "0.0\n",
            "0.0\n",
            "\n",
            "Way #2:\n",
            "1.8983836e-316\n",
            "0.0\n",
            "0.0\n",
            "0.0\n",
            "0.0\n",
            "0.0\n",
            "0.0\n",
            "0.0\n",
            "0.0\n",
            "0.0\n",
            "0.0\n",
            "0.0\n",
            "0.0\n",
            "0.0\n",
            "0.0\n",
            "0.0\n",
            "0.0\n",
            "0.0\n",
            "0.0\n",
            "0.0\n",
            "0.0\n",
            "0.0\n",
            "0.0\n",
            "0.0\n",
            "0.0\n",
            "0.0\n",
            "0.0\n"
          ]
        }
      ],
      "source": [
        "a3 = np.empty((3,3,3))\n",
        "\n",
        "print('Way #1:')\n",
        "for el in a3.flat:\n",
        "    print(el)\n",
        "\n",
        "print('\\nWay #2:')\n",
        "for axis1 in a3:\n",
        "    for axis2 in axis1:\n",
        "        for el in axis2:\n",
        "            print(el)"
      ]
    }
  ],
  "metadata": {
    "colab": {
      "name": "Intro-to-NumPy.ipynb",
      "provenance": []
    },
    "kernelspec": {
      "display_name": "Python 3",
      "name": "python3"
    },
    "language_info": {
      "name": "python",
      "version": "3.10.12"
    }
  },
  "nbformat": 4,
  "nbformat_minor": 0
}
